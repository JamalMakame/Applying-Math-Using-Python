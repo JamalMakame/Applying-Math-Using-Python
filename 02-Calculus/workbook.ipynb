{
 "cells": [
  {
   "attachments": {},
   "cell_type": "markdown",
   "metadata": {},
   "source": [
    "# Calculus and Differential Equations\n",
    "- Working with polynomials and calculus\n",
    "- Differentiating and integrating symbolically using SymPy\n",
    "- Solving equations\n",
    "- Integrating functions numerically using SciPy\n",
    "- Solving simple differential equations numerically\n",
    "- Solving systems of differential equations\n",
    "- Solving partial differential equations numerically\n",
    "- Using discrete Fourier transforms for signal processing."
   ]
  },
  {
   "attachments": {},
   "cell_type": "markdown",
   "metadata": {},
   "source": [
    "## Working with polynomials and Calculus"
   ]
  },
  {
   "cell_type": "code",
   "execution_count": 1,
   "metadata": {},
   "outputs": [],
   "source": [
    "class Polynomial:\n",
    "    \"\"\"Basic polynomial class\"\"\"\n",
    "\n",
    "    def __init__(self, coeffs):\n",
    "        self.coeffs = coeffs\n",
    "\n",
    "    def __repr__(self):\n",
    "        return f\"Polynomial({repr(self.coeffs)})\"\n",
    "\n",
    "    def __call__(self, x) -> int:\n",
    "        return sum([coeff*x**i for i, coeff in enumerate(self.coeffs)])\n",
    "\n",
    "    def differentiate(self):\n",
    "        \"\"\"Differentiate the polynomial and return a new polynomial\"\"\"\n",
    "        return Polynomial([i*coeff for i, coeff in enumerate(self.coeffs[1:], start=1)])\n",
    "\n",
    "    def integrate(self):\n",
    "        \"\"\"Integrate the polynomial and return a new polynomial\"\"\"\n",
    "        return Polynomial([coeff/i for i, coeff in enumerate(self.coeffs, start=1)])\n"
   ]
  },
  {
   "cell_type": "code",
   "execution_count": 2,
   "metadata": {},
   "outputs": [
    {
     "name": "stdout",
     "output_type": "stream",
     "text": [
      "Polynomial([-2, 2])\n",
      "Polynomial([1.0, -1.0, 0.3333333333333333])\n"
     ]
    }
   ],
   "source": [
    "p = Polynomial([1, -2, 1])\n",
    "diff = p.differentiate()\n",
    "print(diff)\n",
    "\n",
    "integ = p.integrate()\n",
    "print(integ)"
   ]
  },
  {
   "attachments": {},
   "cell_type": "markdown",
   "metadata": {},
   "source": [
    "## Differentiating and integrating symbolically using SymPy"
   ]
  },
  {
   "cell_type": "code",
   "execution_count": 3,
   "metadata": {},
   "outputs": [
    {
     "name": "stdout",
     "output_type": "stream",
     "text": [
      "Expression: x + 2*y\n",
      "Value of expression for x=1 and y=2: 5.00000000000000\n"
     ]
    }
   ],
   "source": [
    "# Symbolic calculation: The most basic use case of sympy is to perform symbolic calculations. For example, finding the value of a mathematical expression:\n",
    "import sympy\n",
    "\n",
    "x = sympy.Symbol('x')\n",
    "y = sympy.Symbol('y')\n",
    "\n",
    "expr = x + 2 * y\n",
    "\n",
    "print(f\"Expression: {expr}\")\n",
    "print(f\"Value of expression for x=1 and y=2: {expr.evalf(subs={x:1, y:2})}\")\n"
   ]
  },
  {
   "cell_type": "code",
   "execution_count": 4,
   "metadata": {},
   "outputs": [
    {
     "name": "stdout",
     "output_type": "stream",
     "text": [
      "Expression: (x + y)**2\n",
      "Simplified expression: (x + y)**2\n"
     ]
    }
   ],
   "source": [
    "# Simplification: sympy can also simplify mathematical expressions:\n",
    "\n",
    "\n",
    "expr = (x + y) ** 2\n",
    "\n",
    "print(f\"Expression: {expr}\")\n",
    "print(f\"Simplified expression: {sympy.simplify(expr)}\")\n"
   ]
  },
  {
   "cell_type": "code",
   "execution_count": 5,
   "metadata": {},
   "outputs": [
    {
     "name": "stdout",
     "output_type": "stream",
     "text": [
      "Expression: x**2 - 4*x + 4\n",
      "Roots of the equation: [2]\n"
     ]
    }
   ],
   "source": [
    "# Solving equations: Another important use case of sympy is to solve equations. For example:\n",
    "expr = x ** 2 - 4 * x + 4\n",
    "\n",
    "print(f\"Expression: {expr}\")\n",
    "print(f\"Roots of the equation: {sympy.solve(expr)}\")"
   ]
  },
  {
   "cell_type": "code",
   "execution_count": 6,
   "metadata": {},
   "outputs": [
    {
     "name": "stdout",
     "output_type": "stream",
     "text": [
      "Expression: x**2 + y**2\n",
      "Derivative with respect to x: 2*x\n",
      "Derivative with respect to y: 2*y\n"
     ]
    }
   ],
   "source": [
    "# Differentiation: sympy can also perform differentiation. For example, to find the derivative of a function:\n",
    "expr = x ** 2 + y ** 2\n",
    "\n",
    "print(f\"Expression: {expr}\")\n",
    "print(f\"Derivative with respect to x: {sympy.diff(expr, x)}\")\n",
    "print(f\"Derivative with respect to y: {sympy.diff(expr, y)}\")\n"
   ]
  },
  {
   "cell_type": "code",
   "execution_count": 7,
   "metadata": {},
   "outputs": [
    {
     "name": "stdout",
     "output_type": "stream",
     "text": [
      "Expression: x**2\n",
      "Antiderivative of the expression: x**3/3\n"
     ]
    }
   ],
   "source": [
    "# Integration: sympy can perform symbolic integration:\n",
    "expr = x ** 2\n",
    "\n",
    "print(f\"Expression: {expr}\")\n",
    "print(f\"Antiderivative of the expression: {sympy.integrate(expr, x)}\")\n"
   ]
  },
  {
   "cell_type": "code",
   "execution_count": 8,
   "metadata": {},
   "outputs": [
    {
     "name": "stdout",
     "output_type": "stream",
     "text": [
      "29/12\n"
     ]
    }
   ],
   "source": [
    "# Define a function\n",
    "f = x**3 + 2*x**2 + x + 1\n",
    "\n",
    "# Find the definite integral of the function\n",
    "a, b = 0, 1\n",
    "integral = sympy.integrate(f, (x, a, b))\n",
    "print(integral)\n"
   ]
  },
  {
   "cell_type": "code",
   "execution_count": 9,
   "metadata": {},
   "outputs": [
    {
     "name": "stdout",
     "output_type": "stream",
     "text": [
      "{x: 3, y: 1}\n"
     ]
    }
   ],
   "source": [
    "# Solving a system of linear equations\n",
    "\n",
    "# Define the system of linear equations\n",
    "eq1 = sympy.Eq(x + y, 4)\n",
    "eq2 = sympy.Eq(x - y, 2)\n",
    "\n",
    "# Solve the system of linear equations\n",
    "sol = sympy.solve((eq1, eq2), (x, y))\n",
    "print(sol)\n"
   ]
  },
  {
   "attachments": {},
   "cell_type": "markdown",
   "metadata": {},
   "source": [
    "## Solving equations"
   ]
  },
  {
   "cell_type": "code",
   "execution_count": 16,
   "metadata": {},
   "outputs": [
    {
     "name": "stdout",
     "output_type": "stream",
     "text": [
      "2.0\n",
      "1.9999999999999862\n"
     ]
    }
   ],
   "source": [
    "from scipy import optimize\n",
    "from math import exp\n",
    "\n",
    "\n",
    "def f(x):\n",
    "    return x*(x-2)*exp(3-x)\n",
    "\n",
    "\n",
    "def fp(x):\n",
    "    return -(x**2 - 4*x + 2) * exp(3 - x)\n",
    "\n",
    "\n",
    "print(optimize.newton(f, 1, fprime=fp))\n",
    "print(optimize.newton(f, 1., x1=1.5))\n"
   ]
  },
  {
   "cell_type": "code",
   "execution_count": 17,
   "metadata": {},
   "outputs": [],
   "source": [
    "from math import copysign\n",
    "\n",
    "\n",
    "def bisect(f, a, b, tol=1e-5):\n",
    "    \"\"\"Bisection method for root finding\"\"\"\n",
    "    fa, fb = f(a), f(b)\n",
    "    assert not copysign(fa, fb) == fa, \"Function must change signs\"\n",
    "    while (b-a) > tol:\n",
    "        m = (b-a)/2\n",
    "        fm = f(m)\n",
    "        if fm == 0:\n",
    "            return m\n",
    "        if copysign(fm, fa) == fm:\n",
    "            a = m\n",
    "            fa = fm\n",
    "        else:\n",
    "            b = m\n",
    "        return a\n"
   ]
  },
  {
   "cell_type": "code",
   "execution_count": 18,
   "metadata": {},
   "outputs": [
    {
     "data": {
      "text/plain": [
       "1.9999999999998792"
      ]
     },
     "execution_count": 18,
     "metadata": {},
     "output_type": "execute_result"
    }
   ],
   "source": [
    "optimize.brentq(f, 1.0, 3.0)\n"
   ]
  },
  {
   "attachments": {},
   "cell_type": "markdown",
   "metadata": {},
   "source": [
    "## Integrating functions numerically using SciPy"
   ]
  },
  {
   "cell_type": "code",
   "execution_count": 19,
   "metadata": {},
   "outputs": [],
   "source": [
    "from scipy import integrate"
   ]
  },
  {
   "cell_type": "code",
   "execution_count": 20,
   "metadata": {},
   "outputs": [],
   "source": [
    "import numpy as np\n",
    "\n",
    "def erf_integrand(t):\n",
    "   return np.exp(-t**2)"
   ]
  },
  {
   "cell_type": "code",
   "execution_count": 22,
   "metadata": {},
   "outputs": [
    {
     "name": "stdout",
     "output_type": "stream",
     "text": [
      "1.493648265624854 1.6582826951881447e-14\n"
     ]
    }
   ],
   "source": [
    "val_quad, err_quad = integrate.quad(erf_integrand, -1.0, 1.0)\n",
    "print(val_quad, err_quad)\n"
   ]
  },
  {
   "cell_type": "code",
   "execution_count": 23,
   "metadata": {},
   "outputs": [
    {
     "name": "stdout",
     "output_type": "stream",
     "text": [
      "1.4936482656450036 7.459892703565174e-10\n"
     ]
    }
   ],
   "source": [
    "val_quad, err_quad = integrate.quadrature(erf_integrand, -1.0, 1.0)\n",
    "print(val_quad, err_quad)"
   ]
  },
  {
   "attachments": {},
   "cell_type": "markdown",
   "metadata": {},
   "source": [
    "## Solving simple differential equations numerically"
   ]
  },
  {
   "cell_type": "code",
   "execution_count": 24,
   "metadata": {},
   "outputs": [],
   "source": [
    "def f(t, y):\n",
    "    return -0.2*y\n",
    "\n",
    "\n",
    "t_range = (0, 5)\n",
    "T0 = np.array([50.])\n",
    "\n",
    "\n",
    "def true_solution(t):\n",
    "    return 50. * np.exp(-0.2*t)\n"
   ]
  },
  {
   "cell_type": "code",
   "execution_count": 28,
   "metadata": {},
   "outputs": [
    {
     "data": {
      "text/plain": [
       "Text(0.5, 1.0, 'Error in approximation')"
      ]
     },
     "execution_count": 28,
     "metadata": {},
     "output_type": "execute_result"
    },
    {
     "data": {
      "image/png": "[encoded data removed]",
      "text/plain": [
       "<Figure size 640x480 with 2 Axes>"
      ]
     },
     "metadata": {},
     "output_type": "display_data"
    }
   ],
   "source": [
    "sol = integrate.solve_ivp(f, t_range, T0, max_step= 0.1)\n",
    "\n",
    "t_vals = sol.t \n",
    "T_vals = sol.y[0,:]\n",
    "\n",
    "import matplotlib.pyplot as plt  \n",
    "fig, (ax1, ax2) = plt.subplots(1,2, tight_layout=True)\n",
    "ax1.plot(t_vals, T_vals)\n",
    "ax1.set_xlabel(\"$t$\")\n",
    "ax1.set_ylabel(\"$T$\")\n",
    "ax1.set_title(\"Solution of the cooling equation\")\n",
    "\n",
    "err = np.abs(T_vals - true_solution(t_vals))\n",
    "\n",
    "ax2.semilogy(t_vals, err)\n",
    "ax2.set_xlabel(\"$t$\")\n",
    "ax2.set_ylabel(\"Error\")\n",
    "ax2.set_title(\"Error in approximation\")"
   ]
  },
  {
   "attachments": {},
   "cell_type": "markdown",
   "metadata": {},
   "source": [
    "## Solving systems of differential equations"
   ]
  },
  {
   "attachments": {},
   "cell_type": "markdown",
   "metadata": {},
   "source": [
    "## Solving partial differential equations numerically"
   ]
  },
  {
   "attachments": {},
   "cell_type": "markdown",
   "metadata": {},
   "source": [
    "## Using discrete Fourier transforms for signal processing."
   ]
  }
 ],
 "metadata": {
  "kernelspec": {
   "display_name": "Python 3",
   "language": "python",
   "name": "python3"
  },
  "language_info": {
   "codemirror_mode": {
    "name": "ipython",
    "version": 3
   },
   "file_extension": ".py",
   "mimetype": "text/x-python",
   "name": "python",
   "nbconvert_exporter": "python",
   "pygments_lexer": "ipython3",
   "version": "3.11.1"
  },
  "orig_nbformat": 4,
  "vscode": {
   "interpreter": {
    "hash": "b98f472bb8ba48098397e3b897b5be76f7bf0e62d98845cdb0e8066dc5677259"
   }
  }
 },
 "nbformat": 4,
 "nbformat_minor": 2
}
