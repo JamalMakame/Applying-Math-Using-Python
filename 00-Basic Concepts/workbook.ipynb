{
 "cells": [
  {
   "attachments": {},
   "cell_type": "markdown",
   "metadata": {},
   "source": [
    "# Basic Packages, Functions and Concepts\n",
    "- Python numerical types\n",
    "- Basic mathematical functions\n",
    "- Numpy arrays\n",
    "- Matrices"
   ]
  },
  {
   "attachments": {},
   "cell_type": "markdown",
   "metadata": {},
   "source": [
    "## Python Numerical Types"
   ]
  },
  {
   "attachments": {},
   "cell_type": "markdown",
   "metadata": {},
   "source": [
    "#### Decimal type\n",
    "For applications that require decimal digits with accurate arithmetic operations, use the Decimal type from the decimal module in the Python Standard Library"
   ]
  },
  {
   "cell_type": "code",
   "execution_count": 1,
   "metadata": {},
   "outputs": [
    {
     "data": {
      "text/plain": [
       "Decimal('6.3')"
      ]
     },
     "execution_count": 1,
     "metadata": {},
     "output_type": "execute_result"
    }
   ],
   "source": [
    "from decimal import Decimal\n",
    "num1 = Decimal('4.2')\n",
    "num2 = Decimal('2.1')\n",
    "\n",
    "num1 + num2"
   ]
  },
  {
   "attachments": {},
   "cell_type": "markdown",
   "metadata": {},
   "source": [
    "#### Fraction type\n",
    "we typically give the numerator and denominator of the fraction as arguments"
   ]
  },
  {
   "cell_type": "code",
   "execution_count": 2,
   "metadata": {},
   "outputs": [
    {
     "data": {
      "text/plain": [
       "Fraction(4, 5)"
      ]
     },
     "execution_count": 2,
     "metadata": {},
     "output_type": "execute_result"
    }
   ],
   "source": [
    "from fractions import Fraction\n",
    "num1 = Fraction(4, 10)\n",
    "num2 = Fraction(6, 15)\n",
    "\n",
    "num1 + num2"
   ]
  },
  {
   "attachments": {},
   "cell_type": "markdown",
   "metadata": {},
   "source": [
    "#### Complex type\n",
    "This code creates a complex number z with real part 2 and imaginary part 3. We then use the real and imag attributes to access the real and imaginary parts of z, respectively. The conjugate method returns the complex conjugate of z. The cmath.polar function takes z as an argument and returns a tuple containing the magnitude and phase (in radians) of z."
   ]
  },
  {
   "cell_type": "code",
   "execution_count": 3,
   "metadata": {},
   "outputs": [
    {
     "name": "stdout",
     "output_type": "stream",
     "text": [
      "Real part: 2.0\n",
      "Imaginary part: 3.0\n",
      "Complex conjugate: (2-3j)\n",
      "Magnitude: 3.605551275463989\n",
      "Phase (in radians): 0.982793723247329\n"
     ]
    }
   ],
   "source": [
    "import cmath\n",
    "\n",
    "# create a complex number\n",
    "z = 2 + 3j\n",
    "\n",
    "# perform various operations with complex numbers\n",
    "print(\"Real part:\", z.real)\n",
    "print(\"Imaginary part:\", z.imag)\n",
    "print(\"Complex conjugate:\", z.conjugate())\n",
    "print(\"Magnitude:\", cmath.polar(z)[0])\n",
    "print(\"Phase (in radians):\", cmath.polar(z)[1])\n"
   ]
  },
  {
   "attachments": {},
   "cell_type": "markdown",
   "metadata": {},
   "source": [
    "## Basic mathematical functions"
   ]
  },
  {
   "cell_type": "code",
   "execution_count": null,
   "metadata": {},
   "outputs": [],
   "source": [
    "import math\n",
    "\n",
    "# perform square root\n",
    "x = 25\n",
    "print(\"Square root of\", x, \"is\", math.sqrt(x))\n",
    "\n",
    "# perform logarithm\n",
    "y = 0.5\n",
    "print(\"Base 10 logarithm of\", y, \"is\", math.log10(y))\n",
    "\n",
    "# perform sine function\n",
    "z = math.pi/4\n",
    "print(\"Sine of\", z, \"is\", math.sin(z))\n",
    "\n",
    "# perform cosine function\n",
    "a = math.pi\n",
    "print(\"Cosine of\", a, \"is\", math.cos(a))\n",
    "\n",
    "# perform tangent function\n",
    "b = math.pi/2\n",
    "print(\"Tangent of\", b, \"is\", math.tan(b))\n",
    "\n",
    "# perform arcsine function\n",
    "c = 1\n",
    "print(\"Arcsine of\", c, \"is\", math.asin(c))\n",
    "\n",
    "# perform arccosine function\n",
    "d = 0\n",
    "print(\"Arccosine of\", d, \"is\", math.acos(d))\n",
    "\n",
    "# perform arctangent function\n",
    "e = 1\n",
    "print(\"Arctangent of\", e, \"is\", math.atan(e))\n"
   ]
  },
  {
   "attachments": {},
   "cell_type": "markdown",
   "metadata": {},
   "source": [
    "## NumPy arrays"
   ]
  },
  {
   "cell_type": "code",
   "execution_count": 4,
   "metadata": {},
   "outputs": [
    {
     "name": "stdout",
     "output_type": "stream",
     "text": [
      "Array a: [1 2 3 4]\n",
      "Array b: [5 6 7 8]\n",
      "Array c (element-wise addition of a and b): [ 6  8 10 12]\n",
      "Dot product of a and b: 70\n",
      "Transpose of a: [1 2 3 4]\n",
      "Reshaped a: [[1 2]\n",
      " [3 4]]\n",
      "Mean of a: 2.5\n",
      "Standard deviation of a: 1.118033988749895\n"
     ]
    }
   ],
   "source": [
    "import numpy as np\n",
    "\n",
    "# create an array\n",
    "a = np.array([1, 2, 3, 4])\n",
    "print(\"Array a:\", a)\n",
    "\n",
    "# perform element-wise addition\n",
    "b = np.array([5, 6, 7, 8])\n",
    "print(\"Array b:\", b)\n",
    "c = a + b\n",
    "print(\"Array c (element-wise addition of a and b):\", c)\n",
    "\n",
    "# perform dot product\n",
    "d = np.dot(a, b)\n",
    "print(\"Dot product of a and b:\", d)\n",
    "\n",
    "# perform transpose\n",
    "e = np.transpose(a)\n",
    "print(\"Transpose of a:\", e)\n",
    "\n",
    "# perform reshape\n",
    "f = a.reshape(2, 2)\n",
    "print(\"Reshaped a:\", f)\n",
    "\n",
    "# perform mean\n",
    "g = np.mean(a)\n",
    "print(\"Mean of a:\", g)\n",
    "\n",
    "# perform standard deviation\n",
    "h = np.std(a)\n",
    "print(\"Standard deviation of a:\", h)\n"
   ]
  },
  {
   "cell_type": "code",
   "execution_count": 9,
   "metadata": {},
   "outputs": [
    {
     "name": "stdout",
     "output_type": "stream",
     "text": [
      "Array a:\n",
      " [[1 2 3]\n",
      " [4 5 6]]\n",
      "Element at row 0, column 2: 3\n",
      "Array b (sliced from array a):\n",
      " [[2 3]\n",
      " [5 6]]\n",
      "Boolean mask:\n",
      " [[False False False]\n",
      " [ True  True  True]]\n",
      "Elements from array a that satisfy the mask: [4 5 6]\n",
      "Array a after setting elements to 0:\n",
      " [[1 2 3]\n",
      " [0 0 0]]\n"
     ]
    },
    {
     "ename": "ValueError",
     "evalue": "cannot reshape array of size 4 into shape (3,2)",
     "output_type": "error",
     "traceback": [
      "\u001b[1;31m---------------------------------------------------------------------------\u001b[0m",
      "\u001b[1;31mValueError\u001b[0m                                Traceback (most recent call last)",
      "Cell \u001b[1;32mIn[9], line 27\u001b[0m\n\u001b[0;32m     24\u001b[0m \u001b[39mprint\u001b[39m(\u001b[39m\"\u001b[39m\u001b[39mArray a after setting elements to 0:\u001b[39m\u001b[39m\\n\u001b[39;00m\u001b[39m\"\u001b[39m, a)\n\u001b[0;32m     26\u001b[0m \u001b[39m# reshape b to be compatible with a for matrix multiplication\u001b[39;00m\n\u001b[1;32m---> 27\u001b[0m b \u001b[39m=\u001b[39m b\u001b[39m.\u001b[39;49mreshape(\u001b[39m3\u001b[39;49m, \u001b[39m2\u001b[39;49m)\n\u001b[0;32m     29\u001b[0m \u001b[39m# perform matrix multiplication\u001b[39;00m\n\u001b[0;32m     30\u001b[0m d \u001b[39m=\u001b[39m np\u001b[39m.\u001b[39mdot(a, b)\n",
      "\u001b[1;31mValueError\u001b[0m: cannot reshape array of size 4 into shape (3,2)"
     ]
    }
   ],
   "source": [
    "import numpy as np\n",
    "\n",
    "# create a 2D array\n",
    "a = np.array([[1, 2, 3], [4, 5, 6]])\n",
    "print(\"Array a:\\n\", a)\n",
    "\n",
    "# indexing\n",
    "print(\"Element at row 0, column 2:\", a[0, 2])\n",
    "\n",
    "# slicing\n",
    "b = a[:, 1:]\n",
    "print(\"Array b (sliced from array a):\\n\", b)\n",
    "\n",
    "# create a boolean mask\n",
    "mask = a > 3\n",
    "print(\"Boolean mask:\\n\", mask)\n",
    "\n",
    "# use the boolean mask to extract elements\n",
    "c = a[mask]\n",
    "print(\"Elements from array a that satisfy the mask:\", c)\n",
    "\n",
    "# use the boolean mask to set elements to a value\n",
    "a[mask] = 0\n",
    "print(\"Array a after setting elements to 0:\\n\", a)\n",
    "\n",
    "# reshape b to be compatible with a for matrix multiplication\n",
    "b = b.reshape(3, 2)\n",
    "\n",
    "# perform matrix multiplication\n",
    "d = np.dot(a, b)\n",
    "print(\"Matrix product of a and b:\\n\", d)\n",
    "\n",
    "# perform element-wise multiplication\n",
    "e = a * b\n",
    "print(\"Element-wise product of a and b:\\n\", e)\n",
    "\n",
    "# perform sum along an axis\n",
    "f = np.sum(a, axis=0)\n",
    "print(\"Sum of array a along axis 0:\", f)\n",
    "\n",
    "# perform cumulative sum\n",
    "g = np.cumsum(a)\n",
    "print(\"Cumulative sum of array a:\", g)\n",
    "\n",
    "# perform mean along an axis\n",
    "h = np.mean(a, axis=1)\n",
    "print(\"Mean of array a along axis 1:\", h)\n",
    "\n",
    "# perform standard deviation along an axis\n",
    "i = np.std(a, axis=1)\n",
    "print(\"Standard deviation of array a along axis 1:\", i)\n"
   ]
  },
  {
   "attachments": {},
   "cell_type": "markdown",
   "metadata": {},
   "source": [
    "## Matrices"
   ]
  },
  {
   "cell_type": "code",
   "execution_count": 1,
   "metadata": {},
   "outputs": [
    {
     "name": "stdout",
     "output_type": "stream",
     "text": [
      "Array a:\n",
      " [[1 6]\n",
      " [1 4]]\n",
      "Transpose of array a:\n",
      " [[1 1]\n",
      " [6 4]]\n",
      "Determinant of array a: -2.0\n",
      "Inverse of array a:\n",
      " [[-2.   3. ]\n",
      " [ 0.5 -0.5]]\n",
      "Solution to linear system using LU decomposition: [33.  -4.5]\n",
      "Singular value decomposition of array a:\n",
      "U: [[-0.82806723 -0.56062881]\n",
      " [-0.56062881  0.82806723]] \n",
      "S: [7.34342046 0.27235265] \n",
      "V: [[-0.18910752 -0.98195639]\n",
      " [ 0.98195639 -0.18910752]]\n",
      "Eigenvalue decomposition of array a:\n",
      "Eigenvalues: [-0.37228132  5.37228132] \n",
      "Eigenvectors: [[-0.9748284  -0.80818183]\n",
      " [ 0.22295647 -0.58893305]]\n",
      "QR decomposition of array a:\n",
      "Q: [[-0.70710678 -0.70710678]\n",
      " [-0.70710678  0.70710678]] \n",
      "R: [[-1.41421356 -7.07106781]\n",
      " [ 0.         -1.41421356]]\n",
      "Cholesky decomposition of array a:\n",
      "L: [[1.         0.        ]\n",
      " [1.         1.73205081]]\n"
     ]
    }
   ],
   "source": [
    "import numpy as np\n",
    "\n",
    "# create a 2D array\n",
    "a = np.array([[1, 6], [1, 4]])\n",
    "print(\"Array a:\\n\", a)\n",
    "\n",
    "# compute the transpose of a matrix\n",
    "b = np.transpose(a)\n",
    "print(\"Transpose of array a:\\n\", b)\n",
    "\n",
    "# compute the determinant of a matrix\n",
    "c = np.linalg.det(a)\n",
    "print(\"Determinant of array a:\", c)\n",
    "\n",
    "# perform matrix inversion\n",
    "d = np.linalg.inv(a)\n",
    "print(\"Inverse of array a:\\n\", d)\n",
    "\n",
    "# solve a linear system using the LU decomposition\n",
    "e = np.array([6, 15])\n",
    "f = np.linalg.solve(a, e)\n",
    "print(\"Solution to linear system using LU decomposition:\", f)\n",
    "\n",
    "# perform singular value decomposition\n",
    "g, h, i = np.linalg.svd(a)\n",
    "print(\"Singular value decomposition of array a:\\nU:\", g, \"\\nS:\", h, \"\\nV:\", i)\n",
    "\n",
    "# perform eigenvalue decomposition\n",
    "j, k = np.linalg.eig(a)\n",
    "print(\"Eigenvalue decomposition of array a:\\nEigenvalues:\", j, \"\\nEigenvectors:\", k)\n",
    "\n",
    "# perform QR decomposition\n",
    "l, m = np.linalg.qr(a)\n",
    "print(\"QR decomposition of array a:\\nQ:\", l, \"\\nR:\", m)\n",
    "\n",
    "# perform Cholesky decomposition\n",
    "n = np.linalg.cholesky(a)\n",
    "print(\"Cholesky decomposition of array a:\\nL:\", n)\n"
   ]
  },
  {
   "cell_type": "code",
   "execution_count": 2,
   "metadata": {},
   "outputs": [
    {
     "name": "stdout",
     "output_type": "stream",
     "text": [
      "Sparse matrix addition:\n",
      " [[ 2  4  0]\n",
      " [ 0  0  6]\n",
      " [ 8  0 10]]\n",
      "Sparse matrix multiplication:\n",
      " [[ 1  2  6]\n",
      " [12  0 15]\n",
      " [24  8 25]]\n",
      "Sparse matrix element-wise multiplication:\n",
      " [[ 1  4  0]\n",
      " [ 0  0  9]\n",
      " [16  0 25]]\n",
      "Sparse matrix transpose:\n",
      " [[1 0 4]\n",
      " [2 0 0]\n",
      " [0 3 5]]\n",
      "Sum of all elements in the sparse matrix: 15\n"
     ]
    }
   ],
   "source": [
    "import numpy as np\n",
    "from scipy.sparse import csr_matrix\n",
    "\n",
    "# create a dense array\n",
    "a = np.array([[1, 2, 0], [0, 0, 3], [4, 0, 5]])\n",
    "\n",
    "# convert to sparse matrix in CSR format\n",
    "b = csr_matrix(a)\n",
    "\n",
    "# perform matrix addition\n",
    "c = b + b\n",
    "print(\"Sparse matrix addition:\\n\", c.toarray())\n",
    "\n",
    "# perform matrix multiplication\n",
    "d = b.dot(b)\n",
    "print(\"Sparse matrix multiplication:\\n\", d.toarray())\n",
    "\n",
    "# perform element-wise multiplication\n",
    "e = b.multiply(b)\n",
    "print(\"Sparse matrix element-wise multiplication:\\n\", e.toarray())\n",
    "\n",
    "# perform transpose\n",
    "f = b.transpose()\n",
    "print(\"Sparse matrix transpose:\\n\", f.toarray())\n",
    "\n",
    "# compute the sum of all elements\n",
    "g = b.sum()\n",
    "print(\"Sum of all elements in the sparse matrix:\", g)\n"
   ]
  }
 ],
 "metadata": {
  "kernelspec": {
   "display_name": "Python 3",
   "language": "python",
   "name": "python3"
  },
  "language_info": {
   "codemirror_mode": {
    "name": "ipython",
    "version": 3
   },
   "file_extension": ".py",
   "mimetype": "text/x-python",
   "name": "python",
   "nbconvert_exporter": "python",
   "pygments_lexer": "ipython3",
   "version": "3.11.1"
  },
  "orig_nbformat": 4,
  "vscode": {
   "interpreter": {
    "hash": "b98f472bb8ba48098397e3b897b5be76f7bf0e62d98845cdb0e8066dc5677259"
   }
  }
 },
 "nbformat": 4,
 "nbformat_minor": 2
}
